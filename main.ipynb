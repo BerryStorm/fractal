{
  "cells": [
    {
      "cell_type": "markdown",
      "metadata": {
        "id": "view-in-github",
        "colab_type": "text"
      },
      "source": [
        "<a href=\"https://colab.research.google.com/github/BerryStorm/fractal/blob/main/main.ipynb\" target=\"_parent\"><img src=\"https://colab.research.google.com/assets/colab-badge.svg\" alt=\"Open In Colab\"/></a>"
      ]
    },
    {
      "cell_type": "code",
      "source": [
        "# trial and error"
      ],
      "metadata": {
        "id": "1NpQzdiDcYuO"
      },
      "execution_count": null,
      "outputs": []
    },
    {
      "cell_type": "markdown",
      "metadata": {
        "id": "TrvzT_WS5T6h"
      },
      "source": [
        "# The Essence of Fractal Geometry\n",
        "\n",
        "Self-similar sets, self-affine sets, and more.\n",
        "\n",
        "---\n",
        "---\n",
        "\n",
        "Made by Stanley Salim and supervised by Prokaj Rudolf Dániel"
      ]
    },
    {
      "cell_type": "markdown",
      "source": [
        "### List of Contents\n",
        "\n",
        "0. Before We Begin\n",
        "1. From An Intuitive Motivation (Sierpinski)\n",
        "2. On Self-Similar Sets (Cantor)\n",
        "3. On Self-Affine Sets (Koch)\n",
        "4. Iterated Function Systems (Dragon)\n",
        "5. Some Similarity Dimensions"
      ],
      "metadata": {
        "id": "fApw2-VymwRZ"
      }
    },
    {
      "cell_type": "markdown",
      "source": [
        "---\n",
        "\n",
        "## 0. Before We Begin\n",
        "\n",
        "This is an interactive notebook about brief introduction to fractal geometry dedicated as an undergraduate individual research project. Although this explainer can be understood without having a very deep knowledge, it is always helpful to have the following background under our belt in order to have the fullest understanding about the topic:\n",
        "\n",
        "1. Set Theory\n",
        "2. Linear Algebra\n",
        "3. Measure Theory\n",
        "4. Analytic Geometry\n",
        "5. Python Programming (optional)\n",
        "\n",
        "The plan is to walk simultaneously through theoretical ideas given by the **markdown cells** alongside with bunch of examples and visualisation given by the **code cells**. Note that the notebook can be understood solely without any programming background. But for those who has even just a tiny bit of programming background, typically with Python, several code lines will have comments that indicate customisable parameters to play around with. Source codes are also available in the created [package](https://github.com/BerryStorm/fractal/tree/main/fractalpackage) on the [GitHub](https://github.com/BerryStorm/fractal) page.\n",
        "\n",
        "> Please note that this notebook is created using Colaboratory, so it is recommended to use this platform, since some codes might not be compatible with some other Jupyter runners!\n",
        "\n",
        "Happy reading!"
      ],
      "metadata": {
        "id": "QwxRy-o-fVLY"
      }
    },
    {
      "cell_type": "markdown",
      "metadata": {
        "id": "zrRwnE9N5T6n"
      },
      "source": [
        "---\n",
        "\n",
        "## 1. From An Intuitive Motivation\n",
        "\n",
        "We start off from a simple motivation and move on to a more rigorous math as the note grows.\n",
        "\n",
        "<img src=\"https://github.com/BerryStorm/fractal/blob/main/img/headland.jpg?raw=1\" alt=\"headland\" width=\"33%\"/>\n",
        "<img src=\"https://github.com/BerryStorm/fractal/blob/main/img/tree.jpg?raw=1\" alt=\"tree\" width=\"33%\"/>\n",
        "<img src=\"https://github.com/BerryStorm/fractal/blob/main/img/frost.jpg?raw=1\" alt=\"frost\" width=\"33%\"/>\n",
        "\n",
        "Consider a piece of paper. On our human scale level, we see that the surface of a paper feels and looks smooth. But imagine zooming the paper to a microscopic scale, and we can guess that the surface of a paper is actually pretty rough. If our physical body is shrunk down to a considerably small scale level and we stand on the surface of the paper, it is most likely that the surface is not really flat and smooth, but rather wavy and fabricated.\n",
        "\n",
        "This somehow gives us an idea that almost every object that we can see is \"rough\". And in mathematics, we want to make sure what we mean by roughness precisely. This raises the idea of finding some other objects that are, in some sense, not necessarily smooth. And some of the most interesting instance of these are the so called \"fractals\", whatever that mean. The pictures that we see in the beginning of this note are some real-life examples of these \"fractals\", but we will make it clear what we mean by that soon."
      ]
    },
    {
      "cell_type": "markdown",
      "source": [
        "### Motivating Example: Sierpiński Triangle\n",
        "\n",
        "To quickly understand what a fractal is, let's just construct one such. But before that, we need to lay some groundwork that is essential for the visualisation.\n",
        "\n",
        "First, we copy the online repository that stores everything we need by running the following line of code."
      ],
      "metadata": {
        "id": "Kcea57gGtS7K"
      }
    },
    {
      "cell_type": "code",
      "source": [
        "!git clone https://github.com/BerryStorm/fractal.git"
      ],
      "metadata": {
        "id": "3jXQNMzNyRUS",
        "outputId": "14b2d883-4b4a-49cc-9f14-314cdb9dfd30",
        "colab": {
          "base_uri": "https://localhost:8080/"
        }
      },
      "execution_count": 1,
      "outputs": [
        {
          "output_type": "stream",
          "name": "stdout",
          "text": [
            "fatal: destination path 'fractal' already exists and is not an empty directory.\n"
          ]
        }
      ]
    },
    {
      "cell_type": "markdown",
      "source": [
        "Next, we set a path in order to unpack the required package with the following code."
      ],
      "metadata": {
        "id": "PEj9VyqQyTlu"
      }
    },
    {
      "cell_type": "code",
      "source": [
        "import sys\n",
        "sys.path.insert(0,'/content/fractal')"
      ],
      "metadata": {
        "id": "XSHjy15iypwI"
      },
      "execution_count": 2,
      "outputs": []
    },
    {
      "cell_type": "markdown",
      "source": [
        "Finally, we import the package we need."
      ],
      "metadata": {
        "id": "-HkYVKaVyrOR"
      }
    },
    {
      "cell_type": "code",
      "source": [
        "import fractalpackage as fract"
      ],
      "metadata": {
        "id": "HeLU-3ptwULW"
      },
      "execution_count": 3,
      "outputs": []
    },
    {
      "cell_type": "code",
      "source": [
        "#fract.cantor.func()\n",
        "\n",
        "math.sqrt(2)"
      ],
      "metadata": {
        "id": "7O6ctQsE5Prs",
        "outputId": "f6abbcd0-5975-4fb0-951e-910d81d5e1ed",
        "colab": {
          "base_uri": "https://localhost:8080/",
          "height": 202
        }
      },
      "execution_count": 6,
      "outputs": [
        {
          "output_type": "error",
          "ename": "NameError",
          "evalue": "ignored",
          "traceback": [
            "\u001b[0;31m---------------------------------------------------------------------------\u001b[0m",
            "\u001b[0;31mNameError\u001b[0m                                 Traceback (most recent call last)",
            "\u001b[0;32m<ipython-input-6-19032e46ef6c>\u001b[0m in \u001b[0;36m<module>\u001b[0;34m\u001b[0m\n\u001b[1;32m      1\u001b[0m \u001b[0;31m#fract.cantor.func()\u001b[0m\u001b[0;34m\u001b[0m\u001b[0;34m\u001b[0m\u001b[0;34m\u001b[0m\u001b[0m\n\u001b[1;32m      2\u001b[0m \u001b[0;34m\u001b[0m\u001b[0m\n\u001b[0;32m----> 3\u001b[0;31m \u001b[0mmath\u001b[0m\u001b[0;34m.\u001b[0m\u001b[0msqrt\u001b[0m\u001b[0;34m(\u001b[0m\u001b[0;36m2\u001b[0m\u001b[0;34m)\u001b[0m\u001b[0;34m\u001b[0m\u001b[0;34m\u001b[0m\u001b[0m\n\u001b[0m",
            "\u001b[0;31mNameError\u001b[0m: name 'math' is not defined"
          ]
        }
      ]
    },
    {
      "cell_type": "markdown",
      "source": [
        "Now we are all set! Back to constructing a very basic fractal, let's start with an equilateral triangle."
      ],
      "metadata": {
        "id": "_jI6LU13wU2W"
      }
    },
    {
      "cell_type": "code",
      "source": [
        "import matplotlib.pyplot as plt\n",
        "import matplotlib as mpl\n",
        "import numpy as np\n",
        "import itertools\n",
        "import sympy\n",
        "import copy\n",
        "import math\n",
        "\n",
        "\n",
        "trianglex = [ 1, 10, 7, 1 ] \n",
        "triangley = [ 2, 8, 4, 2 ]    \n",
        "triangle2x = [ 13, 25, 21, 13]\n",
        "triangle2y = [ 5,  7 , 14, 5 ]\n",
        "\n",
        "plt.figure('Triangles')\n",
        "plt.plot(trianglex, triangley, 'o-')\n",
        "plt.fill(trianglex, triangley)\n",
        "\n",
        "plt.plot( triangle2x, triangle2y, 'o-')\n",
        "plt.fill(triangle2x, triangle2y)\n",
        "\n",
        "plt.show()"
      ],
      "metadata": {
        "id": "lORdYgr60fuC"
      },
      "execution_count": null,
      "outputs": []
    },
    {
      "cell_type": "markdown",
      "source": [
        "This is called the Sierpiński Triangle, one of the most well-known fractal in the world. Let's analyse it further. (n-gon)\n",
        "\n",
        "The code shown above is the first five iterations of the procedure, hence an approximation of the self-similar Sierpiński triangle.\n",
        "\n",
        "This second construction will be our main attention across this note, because we can get more insights from it, namely:\n",
        "\n",
        "1. There is a contraction ratio c\n",
        "2. there is a linear transformation\n",
        "3. These linear transformation can be composed to represent each similar copies, and that is where the name \"self-similar set\" come from."
      ],
      "metadata": {
        "id": "VGyZkAIQvVtE"
      }
    },
    {
      "cell_type": "markdown",
      "source": [
        "### Some Natural Definitions\n",
        "\n",
        "cylinder, ratio\n",
        "\n",
        "Seeing many definitions for the first time can be quite puzzling. The next section will familiarise these definitions with another example of fractal, presented in more details. "
      ],
      "metadata": {
        "id": "jg_EVxfO7-uY"
      }
    },
    {
      "cell_type": "markdown",
      "source": [
        "---\n",
        "\n",
        "## 2. On Self-Similar Sets\n",
        "\n",
        "Another famous fractal that we are going to fit the definitions in is the Cantor set. (middle alpha)"
      ],
      "metadata": {
        "id": "zO3-vZOp7_RE"
      }
    },
    {
      "cell_type": "markdown",
      "metadata": {
        "id": "dYid9Qh55T6y"
      },
      "source": [
        "### Cantor Set\n",
        "\n",
        "Here is another classic example on the middle-third Cantor set."
      ]
    },
    {
      "cell_type": "code",
      "execution_count": null,
      "metadata": {
        "id": "ADDCIsGD5T6p",
        "outputId": "b6b0320f-8403-4c6b-a325-82d655a15de3"
      },
      "outputs": [
        {
          "data": {
            "image/png": "[encoded data removed]",
            "text/plain": [
              "<Figure size 576x396 with 1 Axes>"
            ]
          },
          "metadata": {},
          "output_type": "display_data"
        },
        {
          "data": {
            "image/png": "[encoded data removed]",
            "text/plain": [
              "<Figure size 576x396 with 1 Axes>"
            ]
          },
          "metadata": {},
          "output_type": "display_data"
        },
        {
          "data": {
            "image/png": "[encoded data removed]",
            "text/plain": [
              "<Figure size 576x396 with 1 Axes>"
            ]
          },
          "metadata": {},
          "output_type": "display_data"
        },
        {
          "data": {
            "image/png": "[encoded data removed]",
            "text/plain": [
              "<Figure size 576x396 with 1 Axes>"
            ]
          },
          "metadata": {},
          "output_type": "display_data"
        },
        {
          "data": {
            "image/png": "[encoded data removed]",
            "text/plain": [
              "<Figure size 576x396 with 1 Axes>"
            ]
          },
          "metadata": {},
          "output_type": "display_data"
        }
      ],
      "source": [
        "import matplotlib.pyplot as plt\n",
        "import matplotlib as mpl\n",
        "import numpy as np\n",
        "import itertools\n",
        "import sympy\n",
        "import copy\n",
        "import math\n",
        "\n",
        "class Cylinder:\n",
        "    \"\"\"\n",
        "    Class representing a cylinder of a self-similar set.\n",
        "    \"\"\"\n",
        "\n",
        "    def __init__(self, start, end):\n",
        "        \"\"\"\n",
        "        Initialize a Cylinder object.\n",
        "        \n",
        "        Parameters:\n",
        "            start : Tuple representing the initial coordinate of the cylinder.\n",
        "            end   : Tuple representing the terminal coordinate of the cylinder.\n",
        "        \"\"\"\n",
        "        self.start = start\n",
        "        self.end = end\n",
        "\n",
        "\n",
        "class IFS:\n",
        "    \"\"\"\n",
        "    Class representing an iterated function systems of a self-similar set.\n",
        "    \"\"\"\n",
        "\n",
        "    def __init__(self, family):\n",
        "        \"\"\"\n",
        "        Initialize an IFS object.\n",
        "        \n",
        "        Parameters:\n",
        "            family : Tuple containing family of Lipschitz functions.\n",
        "        \"\"\"\n",
        "        self.fn = family\n",
        "\n",
        "class Fractal:\n",
        "    \"\"\"\n",
        "    Class representing a self-similar set.\n",
        "    \"\"\"\n",
        "\n",
        "    def __init__(self, cylinder, ifs, n=1):\n",
        "        \"\"\"\n",
        "        Initialize a Fractal object.\n",
        "        \n",
        "        Parameters:\n",
        "            cylinder : List representing the cylinder(s) for the self-similar set.\n",
        "            ifs      : Tuple representing the iterated function systems of the self-similar set.\n",
        "            n        : Positive integer representing the level of iteration(s). (1 by default)\n",
        "        \"\"\"\n",
        "        self.cyl = cylinder\n",
        "        self.ifs = ifs\n",
        "        self.lvl = n\n",
        "    \n",
        "    def add_ifs(self):\n",
        "        \"\"\"\n",
        "        Define a new function for the ifs.\n",
        "        \"\"\"\n",
        "        pass\n",
        "\n",
        "    def mod_ifs(self):\n",
        "        \"\"\"\n",
        "        Modify the current ifs.\n",
        "        \"\"\"\n",
        "        pass\n",
        "\n",
        "    def next(self):\n",
        "        \"\"\"\n",
        "        Increase the cylinder level by one.\n",
        "        \"\"\"\n",
        "        pass\n",
        "\n",
        "    def plot(self, level):\n",
        "        \"\"\"\n",
        "        Plot the fractal at the given level.\n",
        "        \"\"\"\n",
        "        pass\n",
        "\n",
        "cantor = [\n",
        "            [[0, 0], [1, 0]]\n",
        "        ]\n",
        "\n",
        "def f1(cylinder):\n",
        "    new_cylinder = copy.deepcopy(cylinder)\n",
        "    new_cylinder[0] = [cylinder[0][0], cylinder[0][1]]\n",
        "    new_cylinder[1] = [cylinder[0][0]+1/3*(cylinder[1][0]-cylinder[0][0]), cylinder[1][1]]\n",
        "    return new_cylinder\n",
        "\n",
        "def f2(cylinder):\n",
        "    new_cylinder = copy.deepcopy(cylinder)\n",
        "    new_cylinder[0] = [cylinder[0][0]+2/3*(cylinder[1][0]-cylinder[0][0]), cylinder[1][1]] \n",
        "    new_cylinder[1] = [cylinder[1][0], cylinder[1][1]]\n",
        "    return new_cylinder\n",
        "\n",
        "def make_cyl(base, n=1):\n",
        "    if n==1:\n",
        "        return base\n",
        "    \n",
        "    fractal = []\n",
        "    for cylinder in base:\n",
        "        fractal.append(f1(cylinder))\n",
        "        fractal.append(f2(cylinder))\n",
        "    return make_cyl(fractal, n-1)\n",
        "\n",
        "\n",
        "def plot(base, level=2):\n",
        "\n",
        "    n = level\n",
        "    fractal = make_cyl(base, n)\n",
        "\n",
        "    plt.style.use('seaborn-dark')\n",
        "    # plt.axis('off')\n",
        "\n",
        "    # plt.figure(figsize=(10,6))\n",
        "    # plt.subplot(131)\n",
        "\n",
        "    for cylinder in fractal:\n",
        "        x = [coor[0] for coor in cylinder]\n",
        "        y = [coor[1] for coor in cylinder]\n",
        "\n",
        "        plt.plot(x, y)\n",
        "    plt.show()\n",
        "\n",
        "# koch = plt.figure()\n",
        "# koch.plot([0,0], [1, 1])\n",
        "\n",
        "for i in range(1, 6):\n",
        "    plot(cantor, i)\n",
        "\n",
        "\n",
        "# plt.fill to make sierpinski triangle\n",
        "# put the x's coordinate and the y's coordinate into two lists,  and just make it back-end\n",
        "# make separate python files at github"
      ]
    },
    {
      "cell_type": "code",
      "execution_count": null,
      "metadata": {
        "id": "GVc04ouk5T6r",
        "outputId": "c3e0a7cf-1839-469e-c4fe-59706a42f708"
      },
      "outputs": [
        {
          "name": "stdout",
          "output_type": "stream",
          "text": [
            "[[[0, 0], [1, 0]]]\n",
            "\n",
            "[[[0, 0], [0.3333333333333333, 0]], [[0.6666666666666666, 0], [1, 0]]]\n",
            "\n",
            "[[[0, 0], [0.1111111111111111, 0]], [[0.2222222222222222, 0], [0.3333333333333333, 0]], [[0.6666666666666666, 0], [0.7777777777777778, 0]], [[0.8888888888888888, 0], [1, 0]]]\n",
            "\n",
            "[[[0, 0], [0.037037037037037035, 0]], [[0.07407407407407407, 0], [0.1111111111111111, 0]], [[0.2222222222222222, 0], [0.25925925925925924, 0]], [[0.2962962962962963, 0], [0.3333333333333333, 0]], [[0.6666666666666666, 0], [0.7037037037037037, 0]], [[0.7407407407407407, 0], [0.7777777777777778, 0]], [[0.8888888888888888, 0], [0.9259259259259259, 0]], [[0.9629629629629629, 0], [1, 0]]]\n"
          ]
        }
      ],
      "source": []
    },
    {
      "cell_type": "markdown",
      "source": [
        "---\n",
        "\n",
        "## 3. On Self-Affine Sets"
      ],
      "metadata": {
        "id": "yRGzmpQn_oGL"
      }
    },
    {
      "cell_type": "code",
      "source": [],
      "metadata": {
        "id": "I2sJoX0C_nui"
      },
      "execution_count": null,
      "outputs": []
    },
    {
      "cell_type": "markdown",
      "metadata": {
        "id": "vngTgRHA5T6x"
      },
      "source": [
        "#### (Variation of Koch Snowflakes/minkowski sausage, n-flake)\n",
        "\n",
        "In this last example, we are going to make the notions as precise as we can and interact with the code as well, so as to get our hands on the heart of self-similar sets and verify our intuition about them.\n",
        "\n",
        "The ... goes as follows:\n",
        "\n",
        "1. "
      ]
    },
    {
      "cell_type": "code",
      "execution_count": null,
      "metadata": {
        "id": "sQq3ghfA5T6y"
      },
      "outputs": [],
      "source": []
    },
    {
      "cell_type": "markdown",
      "metadata": {
        "id": "AePR-9Qf5T6y"
      },
      "source": [
        "2. "
      ]
    },
    {
      "cell_type": "code",
      "execution_count": null,
      "metadata": {
        "id": "oeHLvHfh5T6y"
      },
      "outputs": [],
      "source": []
    },
    {
      "cell_type": "markdown",
      "metadata": {
        "id": "mU4vur4A5T6y"
      },
      "source": [
        "3. "
      ]
    },
    {
      "cell_type": "code",
      "execution_count": null,
      "metadata": {
        "id": "Xty55z-c5T6y"
      },
      "outputs": [],
      "source": []
    },
    {
      "cell_type": "markdown",
      "source": [
        "---\n",
        "\n",
        "## 4. Iterated Function Systems"
      ],
      "metadata": {
        "id": "srW1B2ON_2hQ"
      }
    },
    {
      "cell_type": "markdown",
      "metadata": {
        "id": "5SfUkQXK5T6w"
      },
      "source": [
        "#### Heighway Dragon (generalise it to dragon curves in the code)\n",
        "\n",
        "As the name suggests, the Heighway Dragon is one of the coolest self-similar sets. This example will give us an idea that self-similar sets are not completely \"self-similar\", but just \"self-similar-ish\". Let's construct it by similar linear-algebraic way:\n",
        "\n",
        "1. "
      ]
    },
    {
      "cell_type": "code",
      "execution_count": null,
      "metadata": {
        "id": "YOz51o9x5T6w"
      },
      "outputs": [],
      "source": []
    },
    {
      "cell_type": "markdown",
      "metadata": {
        "id": "pG9iN_cB5T6w"
      },
      "source": [
        "2. "
      ]
    },
    {
      "cell_type": "code",
      "execution_count": null,
      "metadata": {
        "id": "A-fDSd5Q5T6w"
      },
      "outputs": [],
      "source": []
    },
    {
      "cell_type": "markdown",
      "metadata": {
        "id": "TI8zG5b55T6w"
      },
      "source": [
        "3. "
      ]
    },
    {
      "cell_type": "code",
      "execution_count": null,
      "metadata": {
        "id": "9SzjXLpA5T6x"
      },
      "outputs": [],
      "source": []
    },
    {
      "cell_type": "markdown",
      "metadata": {
        "id": "psmhkzeG5T6x"
      },
      "source": [
        "This gives us an idea that even a self-similar set that is constructed by lines (curves) can fill the space! A curve with this property is called a space-filling curve and discovered by Peano in ...\n",
        "\n",
        "To make sure that we understand the basic notion of self-similar sets, contracting ratios, and iterated functions systems, we are going to look at one last interactive example where we can play around with it. "
      ]
    },
    {
      "cell_type": "code",
      "execution_count": null,
      "metadata": {
        "id": "n7OOBI2l5T6y",
        "outputId": "3e70bfac-5bdb-4d70-e6b5-d5eb4d9ee79a"
      },
      "outputs": [
        {
          "data": {
            "image/png": "[encoded data removed]",
            "text/plain": [
              "<Figure size 576x396 with 1 Axes>"
            ]
          },
          "metadata": {},
          "output_type": "display_data"
        }
      ],
      "source": [
        "import matplotlib.pyplot as plt\n",
        "import matplotlib as mpl\n",
        "import numpy as np\n",
        "import itertools\n",
        "import sympy\n",
        "\n",
        "class Fractal:\n",
        "    def __init__(self, cylinder, iterated_function_systems, level=1):\n",
        "        self.cyl = cylinder\n",
        "        self.ifs = iterated_function_systems\n",
        "        self.lvl = level\n",
        "    \n",
        "    def add_ifs(self):\n",
        "        \"\"\"\n",
        "        Define a new function for the ifs.\n",
        "        \"\"\"\n",
        "        pass\n",
        "\n",
        "    def mod_ifs(self):\n",
        "        \"\"\"\n",
        "        Modify the current ifs.\n",
        "        \"\"\"\n",
        "        pass\n",
        "\n",
        "    def next(self):\n",
        "        \"\"\"\n",
        "        Increase the cylinder level by one.\n",
        "        \"\"\"\n",
        "        pass\n",
        "\n",
        "    def plot(self, level):\n",
        "        \"\"\"\n",
        "        Plot the fractal at the given level.\n",
        "        \"\"\"\n",
        "        pass\n",
        "\n",
        "cantor = [(0, 0), (1, 0)]\n",
        "\n",
        "def cantor_ifs():\n",
        "    return None\n",
        "\n",
        "def plot_fractal():\n",
        "    plt.style.use('seaborn-dark')\n",
        "    # plt.axis('off')\n",
        "\n",
        "    # plt.figure(figsize=(10,6))\n",
        "    # plt.subplot(131)\n",
        "\n",
        "    \n",
        "    x = [pt[0] for pt in cantor]\n",
        "    y = [pt[1] for pt in cantor]\n",
        "\n",
        "    plt.plot(x, y)\n",
        "    \n",
        "    plt.show()\n",
        "\n",
        "# koch = plt.figure()\n",
        "# koch.plot([0,0], [1, 1])\n",
        "\n",
        "plot_fractal()"
      ]
    },
    {
      "cell_type": "code",
      "execution_count": null,
      "metadata": {
        "id": "drrkVD3h5T6z",
        "outputId": "9ea36990-98b9-453e-a64c-d70079d5a85d"
      },
      "outputs": [
        {
          "name": "stdout",
          "output_type": "stream",
          "text": [
            "[1, 3, 5]\n"
          ]
        }
      ],
      "source": [
        "l = [[1, 2], [3, 4], [5, 6]]\n",
        "l1 = [i[0] for i in l]\n",
        "print(l1)"
      ]
    },
    {
      "cell_type": "code",
      "source": [
        "import mod."
      ],
      "metadata": {
        "colab": {
          "base_uri": "https://localhost:8080/",
          "height": 306
        },
        "id": "a_WTbkx-93EC",
        "outputId": "ad639ebd-77ea-4153-d316-cfb8706404bd"
      },
      "execution_count": null,
      "outputs": [
        {
          "output_type": "error",
          "ename": "ModuleNotFoundError",
          "evalue": "ignored",
          "traceback": [
            "\u001b[0;31m---------------------------------------------------------------------------\u001b[0m",
            "\u001b[0;31mModuleNotFoundError\u001b[0m                       Traceback (most recent call last)",
            "\u001b[0;32m<ipython-input-1-18de99490651>\u001b[0m in \u001b[0;36m<module>\u001b[0;34m\u001b[0m\n\u001b[0;32m----> 1\u001b[0;31m \u001b[0;32mimport\u001b[0m \u001b[0mmod\u001b[0m\u001b[0;34m\u001b[0m\u001b[0;34m\u001b[0m\u001b[0m\n\u001b[0m",
            "\u001b[0;31mModuleNotFoundError\u001b[0m: No module named 'mod'",
            "",
            "\u001b[0;31m---------------------------------------------------------------------------\u001b[0;32m\nNOTE: If your import is failing due to a missing package, you can\nmanually install dependencies using either !pip or !apt.\n\nTo view examples of installing some common dependencies, click the\n\"Open Examples\" button below.\n\u001b[0;31m---------------------------------------------------------------------------\u001b[0m\n"
          ],
          "errorDetails": {
            "actions": [
              {
                "action": "open_url",
                "actionText": "Open Examples",
                "url": "/notebooks/snippets/importing_libraries.ipynb"
              }
            ]
          }
        }
      ]
    },
    {
      "cell_type": "code",
      "source": [
        "h"
      ],
      "metadata": {
        "id": "rehzemQM-Bes"
      },
      "execution_count": null,
      "outputs": []
    },
    {
      "cell_type": "markdown",
      "metadata": {
        "id": "GiNFXpk75T6z"
      },
      "source": [
        "### Self-Similar Sets\n",
        "\n",
        "Something explaining the self-similar sets\n",
        "\n",
        "---\n",
        "\n",
        "## Onto Formal Preliminaries\n",
        "\n",
        "self-similar sets\n",
        "\n",
        "contraction ratio\n",
        "\n",
        "lipschitz mapping\n",
        "\n",
        "linear mapping\n",
        "\n",
        "iterated functions system\n",
        "\n",
        "symbolic space\n",
        "\n",
        "attractor\n",
        "\n",
        "---\n",
        "\n",
        "## Some Similarity Dimensions\n",
        "\n",
        "### Notions\n",
        "\n",
        "#### Box counting dimension\n",
        "\n",
        "#### Hausdorf dimension\n",
        "\n",
        "---\n",
        "\n",
        "## Well-Separated VS Overlapping Cylinders\n",
        "\n",
        "####\n",
        "\n",
        "####\n",
        "\n",
        "---\n",
        "\n",
        "## Graph Directed Iterated Function Systems\n",
        "\n",
        "#### ...\n",
        "\n",
        "$\\int_0^{\\infty} x^2\\,dx$"
      ]
    },
    {
      "cell_type": "code",
      "execution_count": null,
      "metadata": {
        "id": "zfkIf7zz5T6z",
        "outputId": "bd66f0f2-47ec-4a85-d188-9bd9ab8cc996"
      },
      "outputs": [
        {
          "data": {
            "text/latex": [
              "$\\displaystyle \\sqrt{3}$"
            ],
            "text/plain": [
              "sqrt(3)"
            ]
          },
          "execution_count": 13,
          "metadata": {},
          "output_type": "execute_result"
        }
      ],
      "source": []
    },
    {
      "cell_type": "markdown",
      "source": [
        "---\n",
        "---\n",
        "\n",
        "## References\n",
        "\n",
        "1. Balázs Bárány, Károly Simon, & Boris Solomyak (Forthcoming 2022). Self-Similar and Self-Affine Sets and Measures.\n",
        "2. Michael Keane, Károly Simon, & Boris Solomyak (2003). The dimension of graph directed attractors with overlaps on the line, with an application to a problem in fractal image recognition. Fundamenta Mathematicae, 180."
      ],
      "metadata": {
        "id": "mKOnQzSOhCM6"
      }
    },
    {
      "cell_type": "markdown",
      "source": [
        "---\n",
        "\n",
        "## EX. Coming Soon\n",
        "\n",
        "- Well-Separated VS Overlapping Cylinders\n",
        "- Graph Directed Iterated Function Systems\n",
        "- ..."
      ],
      "metadata": {
        "id": "HJmK0duqn5dP"
      }
    }
  ],
  "metadata": {
    "kernelspec": {
      "display_name": "Python 3 (ipykernel)",
      "language": "python",
      "name": "python3"
    },
    "language_info": {
      "codemirror_mode": {
        "name": "ipython",
        "version": 3
      },
      "file_extension": ".py",
      "mimetype": "text/x-python",
      "name": "python",
      "nbconvert_exporter": "python",
      "pygments_lexer": "ipython3",
      "version": "3.10.6"
    },
    "vscode": {
      "interpreter": {
        "hash": "31f2aee4e71d21fbe5cf8b01ff0e069b9275f58929596ceb00d14d90e3e16cd6"
      }
    },
    "colab": {
      "provenance": [],
      "history_visible": true,
      "include_colab_link": true
    }
  },
  "nbformat": 4,
  "nbformat_minor": 0
}