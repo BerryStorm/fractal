{
  "cells": [
    {
      "cell_type": "markdown",
      "metadata": {
        "id": "view-in-github",
        "colab_type": "text"
      },
      "source": [
        "<a href=\"https://colab.research.google.com/github/BerryStorm/fractal/blob/main/main.ipynb\" target=\"_parent\"><img src=\"https://colab.research.google.com/assets/colab-badge.svg\" alt=\"Open In Colab\"/></a>"
      ]
    },
    {
      "cell_type": "markdown",
      "metadata": {
        "id": "TrvzT_WS5T6h"
      },
      "source": [
        "# The Essence of Fractal Geometry\n",
        "\n",
        "Self-similar sets, self-affine sets, and more.\n",
        "\n",
        "---\n",
        "---\n",
        "\n",
        "Made by Stanley Salim and supervised by Prokaj Rudolf Dániel"
      ]
    },
    {
      "cell_type": "markdown",
      "source": [
        "### List of Contents\n",
        "\n",
        "0. Before We Begin\n",
        "1. From an Intuitive Motivation\n",
        "2. More on Self-Similar Sets\n",
        "3. More on Self-Affine Sets\n",
        "4. More on IFS\n",
        "5. ..."
      ],
      "metadata": {
        "id": "fApw2-VymwRZ"
      }
    },
    {
      "cell_type": "markdown",
      "source": [
        "---\n",
        "\n",
        "## 0. Before We Begin\n",
        "\n",
        "This is an interactive notebook about brief introduction to fractal geometry dedicated as an undergraduate individual research project. Although this explainer can be understood without having a very deep knowledge, it is always helpful to have the following background under our belt in order to have the fullest understanding about the topic:\n",
        "\n",
        "1. Set Theory\n",
        "2. Linear Algebra\n",
        "3. Measure Theory\n",
        "4. Analytic Geometry\n",
        "5. Python Programming (optional)\n",
        "\n",
        "The plan is to walk simultaneously through theoretical ideas given by the **markdown cells** alongside with bunch of examples and visualisation given by the **code cells**. Note that the notebook can be understood solely without any programming background. But for those who has even just a tiny bit of programming background, typically with Python, several code lines will have comments that indicate customisable parameters to play around with. Source codes are also available in the created [package](https://github.com/BerryStorm/fractal/tree/main/fractalpackage) on the [GitHub](https://github.com/BerryStorm/fractal) page.\n",
        "\n",
        "> Please note that this notebook is created using Colaboratory (and it is FREE), so it is recommended to use this platform, since some codes might not be compatible with some other Jupyter runners!\n",
        "\n",
        "Happy reading!"
      ],
      "metadata": {
        "id": "QwxRy-o-fVLY"
      }
    },
    {
      "cell_type": "markdown",
      "metadata": {
        "id": "zrRwnE9N5T6n"
      },
      "source": [
        "---\n",
        "\n",
        "## 1. From an Intuitive Motivation\n",
        "\n",
        "We start off from a simple motivation and move on to a more rigorous math as the note grows.\n",
        "\n",
        "<img src=\"https://github.com/BerryStorm/fractal/blob/main/img/headland.jpg?raw=1\" alt=\"headland\" width=\"33%\"/>\n",
        "<img src=\"https://github.com/BerryStorm/fractal/blob/main/img/tree.jpg?raw=1\" alt=\"tree\" width=\"33%\"/>\n",
        "<img src=\"https://github.com/BerryStorm/fractal/blob/main/img/frost.jpg?raw=1\" alt=\"frost\" width=\"33%\"/>\n",
        "\n",
        "Consider a piece of paper. On our human scale level, we see that the surface of a paper feels and looks smooth. But imagine zooming the paper to a microscopic scale, and we can guess that the surface of a paper is actually pretty rough. If our physical body is shrunk down to a considerably small scale level and we stand on the surface of the paper, it is most likely that the surface is not really flat and smooth, but rather wavy and fabricated.\n",
        "\n",
        "This somehow gives us an idea that almost every object that we can see is \"rough\". And in mathematics, we want to make sure what we mean by roughness precisely. This raises the idea of finding some other objects that are, in some sense, not necessarily smooth. And some of the most interesting instance of these are the so called \"fractals\", whatever that mean. The pictures that we see in the beginning of this note are some real-life examples of these \"fractals\", but we will make it clear what we mean by that soon."
      ]
    },
    {
      "cell_type": "markdown",
      "source": [
        "### Motivating Example: Sierpiński Triangle\n",
        "\n",
        "To quickly understand what a fractal is, let's just construct one such. But before that, we need to lay some groundwork that is essential for the visualisation.\n",
        "\n",
        "First, we copy the online repository that stores everything we need by running the following line of code."
      ],
      "metadata": {
        "id": "Kcea57gGtS7K"
      }
    },
    {
      "cell_type": "code",
      "source": [
        "%rm -r fractal\n",
        "!git clone https://github.com/BerryStorm/fractal.git"
      ],
      "metadata": {
        "id": "3jXQNMzNyRUS",
        "outputId": "cd0550ae-f6d4-48d1-fab2-d98b509e1839",
        "colab": {
          "base_uri": "https://localhost:8080/"
        }
      },
      "execution_count": 1,
      "outputs": [
        {
          "output_type": "stream",
          "name": "stdout",
          "text": [
            "Cloning into 'fractal'...\n",
            "remote: Enumerating objects: 235, done.\u001b[K\n",
            "remote: Counting objects: 100% (97/97), done.\u001b[K\n",
            "remote: Compressing objects: 100% (97/97), done.\u001b[K\n",
            "remote: Total 235 (delta 63), reused 0 (delta 0), pack-reused 138\u001b[K\n",
            "Receiving objects: 100% (235/235), 21.43 MiB | 21.88 MiB/s, done.\n",
            "Resolving deltas: 100% (124/124), done.\n"
          ]
        }
      ]
    },
    {
      "cell_type": "markdown",
      "source": [
        "Next, we set up a path in order to find the required packages with the following code."
      ],
      "metadata": {
        "id": "PEj9VyqQyTlu"
      }
    },
    {
      "cell_type": "code",
      "source": [
        "import sys\n",
        "sys.path.insert(0,'/content/fractal')"
      ],
      "metadata": {
        "id": "XSHjy15iypwI"
      },
      "execution_count": 2,
      "outputs": []
    },
    {
      "cell_type": "markdown",
      "source": [
        "Finally, we import the package we need."
      ],
      "metadata": {
        "id": "-HkYVKaVyrOR"
      }
    },
    {
      "cell_type": "code",
      "source": [
        "import fractalpackage.sierpinski as sier"
      ],
      "metadata": {
        "id": "HeLU-3ptwULW"
      },
      "execution_count": 3,
      "outputs": []
    },
    {
      "cell_type": "markdown",
      "source": [
        "Now we are all set! Here are the steps to construct one fractal:\n",
        "\n",
        "1. Start with an equilateral triangle (of unit side length)."
      ],
      "metadata": {
        "id": "_jI6LU13wU2W"
      }
    },
    {
      "cell_type": "code",
      "source": [
        "sier.step1(sier.sbase)"
      ],
      "metadata": {
        "id": "Dqi9BaNQVJcO",
        "outputId": "9d9f70e3-42ac-44ac-cc3b-017a4d7466de",
        "colab": {
          "base_uri": "https://localhost:8080/",
          "height": 161
        }
      },
      "execution_count": 4,
      "outputs": [
        {
          "output_type": "display_data",
          "data": {
            "text/plain": [
              "<Figure size 172.8x172.8 with 1 Axes>"
            ],
            "image/png": "[encoded data removed]"
          },
          "metadata": {}
        }
      ]
    },
    {
      "cell_type": "markdown",
      "source": [
        "2. Now comes the main step. Imagine taking three copies of this triangle and shrink them down into triangles with half the unit side length. Then, we place them at the vertices of the original triangle we start with."
      ],
      "metadata": {
        "id": "L2y-6RZ7l0iG"
      }
    },
    {
      "cell_type": "code",
      "source": [
        "sier.step2(sier.sbase)"
      ],
      "metadata": {
        "id": "yjbivE6Ol1Lc",
        "outputId": "a92d19bc-08b3-4dd0-9770-31bc56895adf",
        "colab": {
          "base_uri": "https://localhost:8080/",
          "height": 161
        }
      },
      "execution_count": 5,
      "outputs": [
        {
          "output_type": "display_data",
          "data": {
            "text/plain": [
              "<Figure size 518.4x172.8 with 3 Axes>"
            ],
            "image/png": "[encoded data removed]"
          },
          "metadata": {}
        }
      ]
    },
    {
      "cell_type": "markdown",
      "source": [
        "3. Instead of drawing three of them separately, let's keep them in one frame. This might sound simple, but this is actually very crucial in the definition of a fractal."
      ],
      "metadata": {
        "id": "uf9vVxHppxMu"
      }
    },
    {
      "cell_type": "code",
      "source": [
        "sier.step3(sier.sbase)"
      ],
      "metadata": {
        "id": "Ct25m7WYpxnz",
        "outputId": "8f3eea5e-c0c6-4f96-8ce3-f318be870683",
        "colab": {
          "base_uri": "https://localhost:8080/",
          "height": 161
        }
      },
      "execution_count": 6,
      "outputs": [
        {
          "output_type": "display_data",
          "data": {
            "text/plain": [
              "<Figure size 172.8x172.8 with 1 Axes>"
            ],
            "image/png": "[encoded data removed]"
          },
          "metadata": {}
        }
      ]
    },
    {
      "cell_type": "markdown",
      "source": [
        "4. What we have now is a shape whose each of the three triangles is similar with the original triangle in the beginning. In the next step, we repeat the procedure from step 2 and step 3 to each of these three smaller triangles (treated similarly as step 1)."
      ],
      "metadata": {
        "id": "puPknXoipyD6"
      }
    },
    {
      "cell_type": "code",
      "source": [
        "sier.step4(sier.sbase)"
      ],
      "metadata": {
        "id": "CpUpWAuvpycN",
        "outputId": "86ecdaa6-7bb2-40cf-bb70-978dedb5a7aa",
        "colab": {
          "base_uri": "https://localhost:8080/",
          "height": 161
        }
      },
      "execution_count": 7,
      "outputs": [
        {
          "output_type": "display_data",
          "data": {
            "text/plain": [
              "<Figure size 172.8x172.8 with 1 Axes>"
            ],
            "image/png": "[encoded data removed]"
          },
          "metadata": {}
        }
      ]
    },
    {
      "cell_type": "markdown",
      "source": [
        "Time for some experiment! The following is a code representing the first $n$ iterations of the process mentioned above. The parameter `n` in the first line indicates the number of level to be done. Change the number `4` into any other (small) positive integers to see several initial iterations of the construction."
      ],
      "metadata": {
        "id": "yckTcGp5p9I9"
      }
    },
    {
      "cell_type": "code",
      "source": [
        "n = 4    # Try changing 4 into 8 and wait for the magic.\n",
        "\n",
        "sier.splot(sier.sbase, n)"
      ],
      "metadata": {
        "id": "A9eONJl8pzCC",
        "outputId": "691bbdff-c672-4f27-a574-33194f075352",
        "colab": {
          "base_uri": "https://localhost:8080/",
          "height": 420
        }
      },
      "execution_count": 8,
      "outputs": [
        {
          "output_type": "display_data",
          "data": {
            "text/plain": [
              "<Figure size 518.4x1036.8 with 4 Axes>"
            ],
            "image/png": "[encoded data removed]"
          },
          "metadata": {}
        }
      ]
    },
    {
      "cell_type": "markdown",
      "source": [
        "What we have seen above is the $n$-th approximation of the so-called Sierpiński Triangle. Doing this iteration infinitely many times give the exact fractal, and it is one of the best-known fractal in the world. Now we are going to use our example to introduce some mathematical notions to be able to talk about fractals more rigorously."
      ],
      "metadata": {
        "id": "XFBhEK9GxjR6"
      }
    },
    {
      "cell_type": "markdown",
      "source": [
        "### Defining Self-Similar Sets\n",
        "\n",
        "Each iteration of the process of approximating the Sierpiński Triangle is also called a **level**, and we call each triangle in any level of the Sierpiński Triangle by a **cylinder**. So for example, in step 1, the triangle that we started with is called the **base cylinder** or level-0 cylinder.\n",
        "\n",
        "In step 2, we introduce three level-1 cylinders, and these are the images of three different mappings on the Euclidean plane. If $\\vec{x}=\\begin{bmatrix}x_1\\\\x_2\\end{bmatrix}$ is a vector on $\\Bbb{R}^2$, then the three maps are defined to be\n",
        "\n",
        "$$\\begin{eqnarray}\n",
        "S_1(\\vec{x})&:=&\\frac{1}{2}\\cdot \\vec{x}\\\\\n",
        "S_2(\\vec{x})&:=&\\frac{1}{2}\\cdot \\vec{x} + \\begin{bmatrix}1/4\\\\\\sqrt{3}/4\\end{bmatrix}\\\\\n",
        "S_3(\\vec{x})&:=&\\frac{1}{2}\\cdot \\vec{x} + \\begin{bmatrix}1/2\\\\0\\end{bmatrix}\n",
        "\\end{eqnarray}$$\n",
        "\n",
        "\n",
        "The map $S_1$ gives the lower-left triangle by scaling the original triangle by a factor of $\\frac{1}{2}$. This factor is called a **contraction ratio**. The map $S_2$ gives the upper-mid triangle by shifting the image of $S_1$ (i.e. the lower-left triangle) to the right by $\\frac{1}{4}$ and up by $\\frac{\\sqrt{3}}{4}$. The map $S_3$ gives the lower-right triangle by shifting the image of $S_1$ to the right by $\\frac{1}{2}$. Each of these linear maps is called a contracting similarity transformation or **contraction** for shorthand.\n",
        "\n",
        "Jumping to step 4, we apply the same maps for each of the level-1 cylinders to get the level-2 cylinders. In other words, each of the level-2 cylinder we get in step 4 is an image of a unique composition of the contractions $S_1, S_2, S_3$. This motivates us to introduce a simplified notation\n",
        "\n",
        "$$S_{i_1}\\circ S_{i_2}\\circ \\ldots \\circ S_{i_n} =: S_{i_1 i_2 \\ldots i_n}$$\n",
        "\n",
        "Now looking back at step 3, We took the union of the images of $S_1, S_2, S_3$, written as \n",
        "\n",
        "$$S_1\\cup S_2\\cup S_3$$\n",
        "\n",
        "and created the level-1 Sierpiński Triangle. Similarly in step 4, we create the level-2 Sierpiński Triangle by taking the union of the images of $S_{ij}$ for each $i,j=1,2,3$, written as \n",
        "\n",
        "$$\\bigcup_{i,j=1}^3 S_{ij}$$\n",
        "\n",
        "We can think of Sierpiński Triangle as considering every level of cylinders (made from step 1, 2, 4, and so on) and taking the intersection of all of them. Hence in general, The remaining set $\\Lambda$ of points after infinitely many iterations can be written as\n",
        "\n",
        "$$\\Lambda := \\bigcap_{n=1}^\\infty \\bigcup_{(i_1i_2\\ldots i_n)\\in \\{1,2,3\\}^n} S_{i_1 i_2 \\ldots i_n}(\\vec{x})$$\n",
        "\n",
        "This set $\\Lambda$ is finally what we call an **attractor**, and this is exactly the Sierpiński Triangle that we are talking about all this time. And by the nature of self-similarness:\n",
        "\n",
        "$$\\Lambda = S_1(\\Lambda) \\cup S_2(\\Lambda) \\cup S_3(\\Lambda)$$\n",
        "\n",
        "we can say that the Sierpiński Triangle is **self-similar**. And from now on, we call the collection of our mappings $(S_1, S_2, S_3)$ a self-similar iterated function system or just **IFS**.\n",
        "\n",
        "> The the IFS of the Sierpiński Triangle in action can be seen from the raw Python code inside the handmade GitHub library [fractalpackage/sierpinski](https://github.com/BerryStorm/fractal/blob/main/fractalpackage/sierpinski.py). The map $S_1$ corresponds to the function `sf1`, the map $S_2$ corresponds to the function `sf2`, etc."
      ],
      "metadata": {
        "id": "aBUQLmScxj6k"
      }
    },
    {
      "cell_type": "markdown",
      "source": [
        "That was quite a lot of definitions! Meeting them can be quite puzzling for the first time. So later on, we will see bunch of other examples to illustrate all these notions in action."
      ],
      "metadata": {
        "id": "7s6JFTctGKRZ"
      }
    },
    {
      "cell_type": "markdown",
      "source": [
        "---\n",
        "\n",
        "## More on Self-Similar Sets\n",
        "\n",
        "Another famous fractal that we are going to examine is the Cantor set."
      ],
      "metadata": {
        "id": "zO3-vZOp7_RE"
      }
    },
    {
      "cell_type": "markdown",
      "metadata": {
        "id": "dYid9Qh55T6y"
      },
      "source": [
        "### The Middle-thirds Cantor Set\n",
        "\n",
        "As in the previous case, we first need to import the package for visualising this fractal."
      ]
    },
    {
      "cell_type": "code",
      "source": [
        "import fractalpackage.cantor as cant"
      ],
      "metadata": {
        "id": "9erXqS8BKVPq"
      },
      "execution_count": 9,
      "outputs": []
    },
    {
      "cell_type": "markdown",
      "source": [
        "Now the following code represents the first $n$ iterations of the construction of the Cantor set. The parameter `n` in the first line indicates the number of level to be done. Feel free to play around with it."
      ],
      "metadata": {
        "id": "tmVvmwCyKVtE"
      }
    },
    {
      "cell_type": "code",
      "source": [
        "n = 4    # Try changing 4 into 8 and wait for the magic.\n",
        "\n",
        "cant.cplot(cant.cbase, n)"
      ],
      "metadata": {
        "id": "IaDsOWKPTpEh",
        "outputId": "9e914692-7d2c-44fe-f950-a96c8acf99b1",
        "colab": {
          "base_uri": "https://localhost:8080/",
          "height": 437
        }
      },
      "execution_count": 10,
      "outputs": [
        {
          "output_type": "display_data",
          "data": {
            "text/plain": [
              "<Figure size 518.4x518.4 with 4 Axes>"
            ],
            "image/png": "[encoded data removed]"
          },
          "metadata": {}
        }
      ]
    },
    {
      "cell_type": "markdown",
      "source": [
        "---\n",
        "\n",
        "## 3. More on Self-Affine Sets"
      ],
      "metadata": {
        "id": "yRGzmpQn_oGL"
      }
    },
    {
      "cell_type": "markdown",
      "metadata": {
        "id": "vngTgRHA5T6x"
      },
      "source": [
        "### The Koch Curve"
      ]
    },
    {
      "cell_type": "code",
      "source": [
        "import fractalpackage.koch as koch\n"
      ],
      "metadata": {
        "id": "wXXP2UVzTrwq"
      },
      "execution_count": 11,
      "outputs": []
    },
    {
      "cell_type": "code",
      "execution_count": 12,
      "metadata": {
        "id": "sQq3ghfA5T6y",
        "outputId": "407da743-7fb1-401e-eee4-f6a46e1b95eb",
        "colab": {
          "base_uri": "https://localhost:8080/",
          "height": 633
        }
      },
      "outputs": [
        {
          "output_type": "display_data",
          "data": {
            "text/plain": [
              "<Figure size 518.4x777.6 with 4 Axes>"
            ],
            "image/png": "[encoded data removed]"
          },
          "metadata": {}
        }
      ],
      "source": [
        "n = 4    # Try changing 4 into 8 and wait for the magic.\n",
        "\n",
        "koch.kplot(koch.kbase, n)"
      ]
    },
    {
      "cell_type": "markdown",
      "source": [
        "---\n",
        "\n",
        "## 4. More on IfS"
      ],
      "metadata": {
        "id": "srW1B2ON_2hQ"
      }
    },
    {
      "cell_type": "markdown",
      "metadata": {
        "id": "5SfUkQXK5T6w"
      },
      "source": [
        "#### The Heighway Dragon"
      ]
    },
    {
      "cell_type": "code",
      "source": [
        "import fractalpackage.dragon as drag"
      ],
      "metadata": {
        "id": "idqjJXszTuvi"
      },
      "execution_count": 13,
      "outputs": []
    },
    {
      "cell_type": "code",
      "execution_count": 14,
      "metadata": {
        "id": "YOz51o9x5T6w",
        "outputId": "6e2e1161-9445-490a-fc41-6c0f14bf3764",
        "colab": {
          "base_uri": "https://localhost:8080/",
          "height": 327
        }
      },
      "outputs": [
        {
          "output_type": "display_data",
          "data": {
            "text/plain": [
              "<Figure size 518.4x777.6 with 4 Axes>"
            ],
            "image/png": "[encoded data removed]"
          },
          "metadata": {}
        }
      ],
      "source": [
        "n = 4    # Try changing 4 into 8 and wait for the magic.\n",
        "\n",
        "drag.dplot(drag.dbase, n)"
      ]
    },
    {
      "cell_type": "markdown",
      "source": [
        "---\n",
        "---\n",
        "\n",
        "## References\n",
        "\n",
        "1. Balázs Bárány, Károly Simon, & Boris Solomyak (Forthcoming 2022). Self-Similar and Self-Affine Sets and Measures.\n",
        "2. Michael Keane, Károly Simon, & Boris Solomyak (2003). The dimension of graph directed attractors with overlaps on the line, with an application to a problem in fractal image recognition. Fundamenta Mathematicae, 180."
      ],
      "metadata": {
        "id": "mKOnQzSOhCM6"
      }
    },
    {
      "cell_type": "markdown",
      "source": [
        "---\n",
        "\n",
        "## EX. Coming Soon\n",
        "\n",
        "- Well-Separated VS Overlapping Cylinders\n",
        "- Graph Directed Iterated Function Systems\n",
        "- ..."
      ],
      "metadata": {
        "id": "HJmK0duqn5dP"
      }
    },
    {
      "cell_type": "code",
      "source": [
        "import matplotlib.pyplot as plt\n",
        "import matplotlib as mpl\n",
        "import numpy as np\n",
        "import itertools\n",
        "import sympy\n",
        "import math"
      ],
      "metadata": {
        "id": "TIkz9p1ElTkv"
      },
      "execution_count": null,
      "outputs": []
    }
  ],
  "metadata": {
    "kernelspec": {
      "display_name": "Python 3 (ipykernel)",
      "language": "python",
      "name": "python3"
    },
    "language_info": {
      "codemirror_mode": {
        "name": "ipython",
        "version": 3
      },
      "file_extension": ".py",
      "mimetype": "text/x-python",
      "name": "python",
      "nbconvert_exporter": "python",
      "pygments_lexer": "ipython3",
      "version": "3.10.6"
    },
    "vscode": {
      "interpreter": {
        "hash": "31f2aee4e71d21fbe5cf8b01ff0e069b9275f58929596ceb00d14d90e3e16cd6"
      }
    },
    "colab": {
      "provenance": [],
      "include_colab_link": true
    }
  },
  "nbformat": 4,
  "nbformat_minor": 0
}