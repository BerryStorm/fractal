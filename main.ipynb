{
  "cells": [
    {
      "cell_type": "markdown",
      "metadata": {
        "id": "view-in-github",
        "colab_type": "text"
      },
      "source": [
        "<a href=\"https://colab.research.google.com/github/BerryStorm/fractal/blob/main/main.ipynb\" target=\"_parent\"><img src=\"https://colab.research.google.com/assets/colab-badge.svg\" alt=\"Open In Colab\"/></a>"
      ]
    },
    {
      "cell_type": "code",
      "source": [
        "# trial and error"
      ],
      "metadata": {
        "id": "1NpQzdiDcYuO"
      },
      "execution_count": null,
      "outputs": []
    },
    {
      "cell_type": "markdown",
      "metadata": {
        "id": "TrvzT_WS5T6h"
      },
      "source": [
        "# The Essence of Fractal Geometry\n",
        "\n",
        "Self-similar sets, self-affine sets, and more.\n",
        "\n",
        "---\n",
        "---\n",
        "\n",
        "Made by Stanley Salim and supervised by Prokaj Rudolf Dániel"
      ]
    },
    {
      "cell_type": "markdown",
      "source": [
        "### List of Contents\n",
        "\n",
        "0. Before We Begin\n",
        "1. From An Intuitive Motivation (Sierpinski)\n",
        "2. On Self-Similar Sets (Cantor)\n",
        "3. On Self-Affine Sets (Koch)\n",
        "4. Iterated Function Systems (Dragon)\n",
        "5. Some Similarity Dimensions"
      ],
      "metadata": {
        "id": "fApw2-VymwRZ"
      }
    },
    {
      "cell_type": "markdown",
      "source": [
        "---\n",
        "\n",
        "## 0. Before We Begin\n",
        "\n",
        "This is an interactive notebook about brief introduction to fractal geometry dedicated as an undergraduate individual research project. Although this explainer can be understood without having a very deep knowledge, it is always helpful to have the following background under our belt in order to have the fullest understanding about the topic:\n",
        "\n",
        "1. Set Theory\n",
        "2. Linear Algebra\n",
        "3. Measure Theory\n",
        "4. Analytic Geometry\n",
        "5. Python Programming (optional)\n",
        "\n",
        "The plan is to walk simultaneously through theoretical ideas given by the **markdown cells** alongside with bunch of examples and visualisation given by the **code cells**. Note that the notebook can be understood solely without any programming background. But for those who has even just a tiny bit of programming background, typically with Python, several code lines will have comments that indicate customisable parameters to play around with. Source codes are also available in the created [package](https://github.com/BerryStorm/fractal/tree/main/fractalpackage) on the [GitHub](https://github.com/BerryStorm/fractal) page.\n",
        "\n",
        "> Please note that this notebook is created using Colaboratory, so it is recommended to use this platform, since some codes might not be compatible with some other Jupyter runners!\n",
        "\n",
        "Happy reading!"
      ],
      "metadata": {
        "id": "QwxRy-o-fVLY"
      }
    },
    {
      "cell_type": "markdown",
      "metadata": {
        "id": "zrRwnE9N5T6n"
      },
      "source": [
        "---\n",
        "\n",
        "## 1. From An Intuitive Motivation\n",
        "\n",
        "We start off from a simple motivation and move on to a more rigorous math as the note grows.\n",
        "\n",
        "<img src=\"https://github.com/BerryStorm/fractal/blob/main/img/headland.jpg?raw=1\" alt=\"headland\" width=\"33%\"/>\n",
        "<img src=\"https://github.com/BerryStorm/fractal/blob/main/img/tree.jpg?raw=1\" alt=\"tree\" width=\"33%\"/>\n",
        "<img src=\"https://github.com/BerryStorm/fractal/blob/main/img/frost.jpg?raw=1\" alt=\"frost\" width=\"33%\"/>\n",
        "\n",
        "Consider a piece of paper. On our human scale level, we see that the surface of a paper feels and looks smooth. But imagine zooming the paper to a microscopic scale, and we can guess that the surface of a paper is actually pretty rough. If our physical body is shrunk down to a considerably small scale level and we stand on the surface of the paper, it is most likely that the surface is not really flat and smooth, but rather wavy and fabricated.\n",
        "\n",
        "This somehow gives us an idea that almost every object that we can see is \"rough\". And in mathematics, we want to make sure what we mean by roughness precisely. This raises the idea of finding some other objects that are, in some sense, not necessarily smooth. And some of the most interesting instance of these are the so called \"fractals\", whatever that mean. The pictures that we see in the beginning of this note are some real-life examples of these \"fractals\", but we will make it clear what we mean by that soon."
      ]
    },
    {
      "cell_type": "markdown",
      "source": [
        "### Motivating Example: Sierpiński Triangle\n",
        "\n",
        "To quickly understand what a fractal is, let's just construct one such. But before that, we need to lay some groundwork that is essential for the visualisation.\n",
        "\n",
        "First, we copy the online repository that stores everything we need by running the following line of code."
      ],
      "metadata": {
        "id": "Kcea57gGtS7K"
      }
    },
    {
      "cell_type": "code",
      "source": [
        "!git clone https://github.com/BerryStorm/fractal.git"
      ],
      "metadata": {
        "id": "3jXQNMzNyRUS",
        "outputId": "b12817e3-408d-40d3-c4ed-227d0ba18951",
        "colab": {
          "base_uri": "https://localhost:8080/"
        }
      },
      "execution_count": 5,
      "outputs": [
        {
          "output_type": "stream",
          "name": "stdout",
          "text": [
            "Cloning into 'fractal'...\n",
            "remote: Enumerating objects: 138, done.\u001b[K\n",
            "remote: Total 138 (delta 0), reused 0 (delta 0), pack-reused 138\u001b[K\n",
            "Receiving objects: 100% (138/138), 21.07 MiB | 18.85 MiB/s, done.\n",
            "Resolving deltas: 100% (61/61), done.\n"
          ]
        }
      ]
    },
    {
      "cell_type": "markdown",
      "source": [
        "Next, we set a path in order to find the required package with the following code."
      ],
      "metadata": {
        "id": "PEj9VyqQyTlu"
      }
    },
    {
      "cell_type": "code",
      "source": [
        "import sys\n",
        "sys.path.insert(0,'/content/fractal')"
      ],
      "metadata": {
        "id": "XSHjy15iypwI"
      },
      "execution_count": 6,
      "outputs": []
    },
    {
      "cell_type": "markdown",
      "source": [
        "Finally, we import the package we need."
      ],
      "metadata": {
        "id": "-HkYVKaVyrOR"
      }
    },
    {
      "cell_type": "code",
      "source": [
        "import fractalpackage as fract\n",
        "\n",
        "cipan()"
      ],
      "metadata": {
        "id": "HeLU-3ptwULW",
        "outputId": "3688d095-90a0-46d7-b327-9e17d7513ab0",
        "colab": {
          "base_uri": "https://localhost:8080/"
        }
      },
      "execution_count": 21,
      "outputs": [
        {
          "output_type": "stream",
          "name": "stdout",
          "text": [
            "Hello world\n"
          ]
        }
      ]
    },
    {
      "cell_type": "code",
      "source": [
        "import fractalpackage.cantor as ctr\n",
        "\n",
        "ctr.func()"
      ],
      "metadata": {
        "id": "7O6ctQsE5Prs",
        "outputId": "cbaca6e9-eaf2-4dbc-ed82-15452ae20e63",
        "colab": {
          "base_uri": "https://localhost:8080/"
        }
      },
      "execution_count": 15,
      "outputs": [
        {
          "output_type": "execute_result",
          "data": {
            "text/plain": [
              "3"
            ]
          },
          "metadata": {},
          "execution_count": 15
        }
      ]
    },
    {
      "cell_type": "markdown",
      "source": [
        "Now we are all set! Back to constructing a very basic fractal, let's start with an equilateral triangle."
      ],
      "metadata": {
        "id": "_jI6LU13wU2W"
      }
    },
    {
      "cell_type": "code",
      "source": [
        "sierp = np.array([\n",
        "    [0, 1/2, 1], \n",
        "    [0, math.sqrt(3)/2, 0]\n",
        "    ])\n",
        "\n",
        "\n",
        "def sf1(cylinder):\n",
        "    x = cylinder[0]*1/2\n",
        "    y = cylinder[1]*1/2\n",
        "\n",
        "    return np.array([x, y])\n",
        "\n",
        "\n",
        "def sf2(cylinder):\n",
        "    x = cylinder[0]*1/2 + 1/4\n",
        "    y = cylinder[1]*1/2 + math.sqrt(3)/4\n",
        "\n",
        "    return np.array([x, y])\n",
        "\n",
        "\n",
        "def sf3(cylinder):\n",
        "    x = cylinder[0]*1/2 + 1/2\n",
        "    y = cylinder[1]*1/2\n",
        "\n",
        "    return np.array([x, y])\n",
        "\n",
        "\n",
        "def sierpinski(base, n):\n",
        "    if n == 0:\n",
        "        return base\n",
        "    \n",
        "    x = np.array([])\n",
        "    y = np.array([])\n",
        "\n",
        "    x = np.append(x, [sf1(base)[0], sf2(base)[0], sf3(base)[0]])\n",
        "    y = np.append(y, [sf1(base)[1], sf2(base)[1], sf3(base)[1]])\n",
        "\n",
        "    return sierpinski([x,y], n-1)\n",
        "\n",
        "\n",
        "def splot(base, n=4):\n",
        "    plt.style.use('seaborn-dark')\n",
        "    plt.figure(figsize=[7.2, n*3.6])\n",
        "    for k in range(n):\n",
        "        fractal = sierpinski(base, k)\n",
        "        x = fractal[0]\n",
        "        y = fractal[1]\n",
        "        \n",
        "        plt.subplot(n, 2, k+1)\n",
        "        plt.title(f\"level {k}\")\n",
        "        plt.xticks([])\n",
        "        plt.yticks([])\n",
        "        for i in range(0,len(x), 3):\n",
        "            plt.fill(x[i:i+3], y[i:i+3], \"indigo\")\n",
        "    plt.show()\n",
        "\n",
        "\n",
        "splot(sierp)"
      ],
      "metadata": {
        "id": "lORdYgr60fuC",
        "outputId": "2d034070-afe7-443c-b609-2e03c6d5bec5",
        "colab": {
          "base_uri": "https://localhost:8080/",
          "height": 590
        }
      },
      "execution_count": 196,
      "outputs": [
        {
          "output_type": "display_data",
          "data": {
            "text/plain": [
              "<Figure size 720x1440 with 4 Axes>"
            ],
            "image/png": "[encoded data removed]"
          },
          "metadata": {}
        }
      ]
    },
    {
      "cell_type": "markdown",
      "source": [
        "This is called the Sierpiński Triangle, one of the most well-known fractal in the world. Let's analyse it further. (n-gon)\n",
        "\n",
        "The code shown above is the first five iterations of the procedure, hence an approximation of the self-similar Sierpiński triangle.\n",
        "\n",
        "This second construction will be our main attention across this note, because we can get more insights from it, namely:\n",
        "\n",
        "1. There is a contraction ratio c\n",
        "2. there is a linear transformation\n",
        "3. These linear transformation can be composed to represent each similar copies, and that is where the name \"self-similar set\" come from."
      ],
      "metadata": {
        "id": "VGyZkAIQvVtE"
      }
    },
    {
      "cell_type": "markdown",
      "source": [
        "### Some Natural Definitions\n",
        "\n",
        "cylinder, ratio\n",
        "\n",
        "Seeing many definitions for the first time can be quite puzzling. The next section will familiarise these definitions with another example of fractal, presented in more details. "
      ],
      "metadata": {
        "id": "jg_EVxfO7-uY"
      }
    },
    {
      "cell_type": "markdown",
      "source": [
        "---\n",
        "\n",
        "## 2. On Self-Similar Sets\n",
        "\n",
        "Another famous fractal that we are going to fit the definitions in is the Cantor set. (middle alpha)"
      ],
      "metadata": {
        "id": "zO3-vZOp7_RE"
      }
    },
    {
      "cell_type": "markdown",
      "metadata": {
        "id": "dYid9Qh55T6y"
      },
      "source": [
        "### Cantor Set\n",
        "\n",
        "Here is another classic example on the middle-third Cantor set."
      ]
    },
    {
      "cell_type": "code",
      "source": [
        "ctr = np.array([\n",
        "    [0, 1], \n",
        "    [0, 0]\n",
        "    ])\n",
        "\n",
        "\n",
        "def cf1(cylinder):\n",
        "    x = cylinder[0]*1/3\n",
        "    y = cylinder[1]\n",
        "\n",
        "    return np.array([x, y])\n",
        "\n",
        "\n",
        "def cf2(cylinder):\n",
        "    x = cylinder[0]*1/3 + 2/3\n",
        "    y = cylinder[1]\n",
        "\n",
        "    return np.array([x, y])\n",
        "\n",
        "\n",
        "def cantor(base, n):\n",
        "    if n == 0:\n",
        "        return base\n",
        "    \n",
        "    x = np.array([])\n",
        "    y = np.array([])\n",
        "\n",
        "    x = np.append(x, [cf1(base)[0], cf2(base)[0]])\n",
        "    y = np.append(y, [cf1(base)[1], cf2(base)[1]])\n",
        "\n",
        "    return cantor([x,y], n-1)\n",
        "\n",
        "\n",
        "def cplot(base, n=4):\n",
        "    plt.style.use('seaborn-dark')\n",
        "    plt.figure(figsize=[7.2, n*1.8])\n",
        "    for k in range(n):\n",
        "        fractal = cantor(base, k)\n",
        "        x = fractal[0]\n",
        "        y = fractal[1]\n",
        "        \n",
        "        plt.subplot(n, 1, k+1)\n",
        "        plt.title(f\"level {k}\")\n",
        "        plt.xticks([])\n",
        "        plt.yticks([])\n",
        "        for i in range(0,len(x), 2):\n",
        "            plt.plot(x[i:i+2], y[i:i+2], \"indigo\")\n",
        "    plt.show()\n",
        "\n",
        "\n",
        "cplot(ctr)"
      ],
      "metadata": {
        "id": "1MlyOqBaPkJr",
        "outputId": "5ba864b5-d696-4acd-d742-eb5e5e135103",
        "colab": {
          "base_uri": "https://localhost:8080/",
          "height": 683
        }
      },
      "execution_count": 197,
      "outputs": [
        {
          "output_type": "stream",
          "name": "stdout",
          "text": [
            "[0 0]\n",
            "[0. 0. 0. 0.]\n",
            "[0. 0. 0. 0. 0. 0. 0. 0.]\n",
            "[0. 0. 0. 0. 0. 0. 0. 0. 0. 0. 0. 0. 0. 0. 0. 0.]\n"
          ]
        },
        {
          "output_type": "display_data",
          "data": {
            "text/plain": [
              "<Figure size 720x720 with 4 Axes>"
            ],
            "image/png": "[encoded data removed]"
          },
          "metadata": {}
        }
      ]
    },
    {
      "cell_type": "markdown",
      "source": [
        "---\n",
        "\n",
        "## 3. On Self-Affine Sets"
      ],
      "metadata": {
        "id": "yRGzmpQn_oGL"
      }
    },
    {
      "cell_type": "markdown",
      "metadata": {
        "id": "vngTgRHA5T6x"
      },
      "source": [
        "#### (Variation of Koch Snowflakes/minkowski sausage, n-flake)\n",
        "\n",
        "In this last example, we are going to make the notions as precise as we can and interact with the code as well, so as to get our hands on the heart of self-similar sets and verify our intuition about them.\n",
        "\n",
        "The ... goes as follows:\n",
        "\n",
        "1. "
      ]
    },
    {
      "cell_type": "code",
      "execution_count": null,
      "metadata": {
        "id": "sQq3ghfA5T6y"
      },
      "outputs": [],
      "source": [
        "kch = np.array([\n",
        "    [0, 1], \n",
        "    [0, 0]\n",
        "    ])\n",
        "\n",
        "\n",
        "def kf1(cylinder):\n",
        "    x = cylinder[0]*1/3\n",
        "    y = cylinder[1]\n",
        "\n",
        "    return np.array([x, y])\n",
        "\n",
        "\n",
        "def kf2(cylinder):\n",
        "    x = cylinder[0]*1/3*() + 2/3\n",
        "    y = cylinder[1]\n",
        "\n",
        "    return np.array([x, y])\n",
        "\n",
        "\n",
        "def kf3(cylinder):\n",
        "    x = cylinder[0]*1/3 + 2/3\n",
        "    y = cylinder[1]\n",
        "\n",
        "    return np.array([x, y])\n",
        "\n",
        "\n",
        "def kf4(cylinder):\n",
        "    x = cylinder[0]*1/3 + 2/3\n",
        "    y = cylinder[1]\n",
        "\n",
        "    return np.array([x, y])\n",
        "\n",
        "\n",
        "def koch(base, n):\n",
        "    if n == 0:\n",
        "        return base\n",
        "    \n",
        "    x = np.array([])\n",
        "    y = np.array([])\n",
        "\n",
        "    x = np.append(x, [cf1(base)[0], cf2(base)[0]])\n",
        "    y = np.append(y, [cf1(base)[1], cf2(base)[1]])\n",
        "\n",
        "    return cantor([x,y], n-1)\n",
        "\n",
        "\n",
        "def cplot(base, n=4):\n",
        "    plt.style.use('seaborn-dark')\n",
        "    plt.figure(figsize=[7.2, n*1.8])\n",
        "    for k in range(n):\n",
        "        fractal = cantor(base, k)\n",
        "        x = fractal[0]\n",
        "        y = fractal[1]\n",
        "        \n",
        "        plt.subplot(n, 1, k+1)\n",
        "        plt.title(f\"level {k}\")\n",
        "        plt.xticks([])\n",
        "        plt.yticks([])\n",
        "        for i in range(0,len(x), 2):\n",
        "            plt.plot(x[i:i+2], y[i:i+2], \"indigo\")\n",
        "    plt.show()\n",
        "\n",
        "\n",
        "cplot(kch)"
      ]
    },
    {
      "cell_type": "markdown",
      "metadata": {
        "id": "AePR-9Qf5T6y"
      },
      "source": [
        "2. "
      ]
    },
    {
      "cell_type": "code",
      "execution_count": null,
      "metadata": {
        "id": "oeHLvHfh5T6y"
      },
      "outputs": [],
      "source": []
    },
    {
      "cell_type": "markdown",
      "metadata": {
        "id": "mU4vur4A5T6y"
      },
      "source": [
        "3. "
      ]
    },
    {
      "cell_type": "code",
      "execution_count": null,
      "metadata": {
        "id": "Xty55z-c5T6y"
      },
      "outputs": [],
      "source": []
    },
    {
      "cell_type": "markdown",
      "source": [
        "---\n",
        "\n",
        "## 4. Iterated Function Systems"
      ],
      "metadata": {
        "id": "srW1B2ON_2hQ"
      }
    },
    {
      "cell_type": "markdown",
      "metadata": {
        "id": "5SfUkQXK5T6w"
      },
      "source": [
        "#### Heighway Dragon (generalise it to dragon curves in the code)\n",
        "\n",
        "As the name suggests, the Heighway Dragon is one of the coolest self-similar sets. This example will give us an idea that self-similar sets are not completely \"self-similar\", but just \"self-similar-ish\". Let's construct it by similar linear-algebraic way:\n",
        "\n",
        "1. "
      ]
    },
    {
      "cell_type": "code",
      "execution_count": null,
      "metadata": {
        "id": "YOz51o9x5T6w"
      },
      "outputs": [],
      "source": []
    },
    {
      "cell_type": "markdown",
      "metadata": {
        "id": "pG9iN_cB5T6w"
      },
      "source": [
        "2. "
      ]
    },
    {
      "cell_type": "code",
      "execution_count": null,
      "metadata": {
        "id": "A-fDSd5Q5T6w"
      },
      "outputs": [],
      "source": []
    },
    {
      "cell_type": "markdown",
      "metadata": {
        "id": "TI8zG5b55T6w"
      },
      "source": [
        "3. "
      ]
    },
    {
      "cell_type": "code",
      "execution_count": null,
      "metadata": {
        "id": "9SzjXLpA5T6x"
      },
      "outputs": [],
      "source": []
    },
    {
      "cell_type": "markdown",
      "metadata": {
        "id": "psmhkzeG5T6x"
      },
      "source": [
        "This gives us an idea that even a self-similar set that is constructed by lines (curves) can fill the space! A curve with this property is called a space-filling curve and discovered by Peano in ...\n",
        "\n",
        "To make sure that we understand the basic notion of self-similar sets, contracting ratios, and iterated functions systems, we are going to look at one last interactive example where we can play around with it. "
      ]
    },
    {
      "cell_type": "code",
      "source": [
        "h"
      ],
      "metadata": {
        "id": "rehzemQM-Bes"
      },
      "execution_count": null,
      "outputs": []
    },
    {
      "cell_type": "markdown",
      "metadata": {
        "id": "GiNFXpk75T6z"
      },
      "source": [
        "### Self-Similar Sets\n",
        "\n",
        "Something explaining the self-similar sets\n",
        "\n",
        "---\n",
        "\n",
        "## Onto Formal Preliminaries\n",
        "\n",
        "self-similar sets\n",
        "\n",
        "contraction ratio\n",
        "\n",
        "lipschitz mapping\n",
        "\n",
        "linear mapping\n",
        "\n",
        "iterated functions system\n",
        "\n",
        "symbolic space\n",
        "\n",
        "attractor\n",
        "\n",
        "---\n",
        "\n",
        "## Some Similarity Dimensions\n",
        "\n",
        "### Notions\n",
        "\n",
        "#### Box counting dimension\n",
        "\n",
        "#### Hausdorf dimension\n",
        "\n",
        "---\n",
        "\n",
        "## Well-Separated VS Overlapping Cylinders\n",
        "\n",
        "####\n",
        "\n",
        "####\n",
        "\n",
        "---\n",
        "\n",
        "## Graph Directed Iterated Function Systems\n",
        "\n",
        "#### ...\n",
        "\n",
        "$\\int_0^{\\infty} x^2\\,dx$"
      ]
    },
    {
      "cell_type": "markdown",
      "source": [
        "---\n",
        "---\n",
        "\n",
        "## References\n",
        "\n",
        "1. Balázs Bárány, Károly Simon, & Boris Solomyak (Forthcoming 2022). Self-Similar and Self-Affine Sets and Measures.\n",
        "2. Michael Keane, Károly Simon, & Boris Solomyak (2003). The dimension of graph directed attractors with overlaps on the line, with an application to a problem in fractal image recognition. Fundamenta Mathematicae, 180."
      ],
      "metadata": {
        "id": "mKOnQzSOhCM6"
      }
    },
    {
      "cell_type": "markdown",
      "source": [
        "---\n",
        "\n",
        "## EX. Coming Soon\n",
        "\n",
        "- Well-Separated VS Overlapping Cylinders\n",
        "- Graph Directed Iterated Function Systems\n",
        "- ..."
      ],
      "metadata": {
        "id": "HJmK0duqn5dP"
      }
    }
  ],
  "metadata": {
    "kernelspec": {
      "display_name": "Python 3 (ipykernel)",
      "language": "python",
      "name": "python3"
    },
    "language_info": {
      "codemirror_mode": {
        "name": "ipython",
        "version": 3
      },
      "file_extension": ".py",
      "mimetype": "text/x-python",
      "name": "python",
      "nbconvert_exporter": "python",
      "pygments_lexer": "ipython3",
      "version": "3.10.6"
    },
    "vscode": {
      "interpreter": {
        "hash": "31f2aee4e71d21fbe5cf8b01ff0e069b9275f58929596ceb00d14d90e3e16cd6"
      }
    },
    "colab": {
      "provenance": [],
      "include_colab_link": true
    }
  },
  "nbformat": 4,
  "nbformat_minor": 0
}